{
  "nbformat": 4,
  "nbformat_minor": 0,
  "metadata": {
    "colab": {
      "provenance": []
    },
    "kernelspec": {
      "name": "python3",
      "display_name": "Python 3"
    },
    "language_info": {
      "name": "python"
    }
  },
  "cells": [
    {
      "cell_type": "code",
      "source": [
        "import numpy as np\n",
        "import pandas as pd\n",
        "import matplotlib.pyplot as plt\n",
        "import seaborn as sns\n",
        "from sklearn.feature_extraction.text import TfidfVectorizer\n",
        "from sklearn.decomposition import TruncatedSVD\n",
        "from sklearn.metrics.pairwise import cosine_similarity\n",
        "from sklearn.linear_model import LogisticRegression\n",
        "from sklearn.model_selection import train_test_split, GridSearchCV\n",
        "from sklearn.preprocessing import StandardScaler\n",
        "from sklearn.metrics import accuracy_score\n",
        "from imblearn.over_sampling import SMOTE\n",
        "from sklearn.metrics.pairwise import cosine_similarity\n",
        "from sklearn.metrics import accuracy_score, confusion_matrix, ConfusionMatrixDisplay\n",
        "from sklearn.metrics import classification_report, accuracy_score"
      ],
      "metadata": {
        "id": "kNDtUSTkCKEX"
      },
      "execution_count": 1,
      "outputs": []
    },
    {
      "cell_type": "markdown",
      "source": [],
      "metadata": {
        "id": "nUC6kOCqC6wQ"
      }
    },
    {
      "cell_type": "code",
      "source": [
        "from sklearn.datasets import fetch_20newsgroups\n",
        "# Load the 20 Newsgroups dataset\n",
        "newsgroups = fetch_20newsgroups(subset='all', remove=('headers', 'footers', 'quotes'))\n",
        "df = pd.DataFrame({'text': newsgroups.data, 'category': newsgroups.target})\n",
        "\n",
        "# Map numeric categories to their names for better understanding (optional)\n",
        "df['category'] = df['category'].map(dict(enumerate(newsgroups.target_names)))\n",
        "\n",
        "# Print available columns and display the first few rows of the dataset to verify loading and mapping\n",
        "print(\"Available columns in DataFrame:\", df.columns)"
      ],
      "metadata": {
        "colab": {
          "base_uri": "https://localhost:8080/"
        },
        "id": "JqB0xNQ6DTTC",
        "outputId": "7fb8c96b-55b4-49e7-d0b0-61161c9db3bf"
      },
      "execution_count": 2,
      "outputs": [
        {
          "output_type": "stream",
          "name": "stdout",
          "text": [
            "Available columns in DataFrame: Index(['text', 'category'], dtype='object')\n"
          ]
        }
      ]
    },
    {
      "cell_type": "code",
      "source": [
        "df.head(10)"
      ],
      "metadata": {
        "colab": {
          "base_uri": "https://localhost:8080/",
          "height": 363
        },
        "id": "KwcaHOTESJ11",
        "outputId": "951581db-4104-4b98-d6ba-4312cd8f69c8"
      },
      "execution_count": 3,
      "outputs": [
        {
          "output_type": "execute_result",
          "data": {
            "text/plain": [
              "                                                text                  category\n",
              "0  \\n\\nI am sure some bashers of Pens fans are pr...          rec.sport.hockey\n",
              "1  My brother is in the market for a high-perform...  comp.sys.ibm.pc.hardware\n",
              "2  \\n\\n\\n\\n\\tFinally you said what you dream abou...     talk.politics.mideast\n",
              "3  \\nThink!\\n\\nIt's the SCSI card doing the DMA t...  comp.sys.ibm.pc.hardware\n",
              "4  1)    I have an old Jasmine drive which I cann...     comp.sys.mac.hardware\n",
              "5  \\n\\nBack in high school I worked as a lab assi...           sci.electronics\n",
              "6  \\n\\nAE is in Dallas...try 214/241-6060 or 214/...     comp.sys.mac.hardware\n",
              "7  \\n[stuff deleted]\\n\\nOk, here's the solution t...          rec.sport.hockey\n",
              "8  \\n\\n\\nYeah, it's the second one.  And I believ...          rec.sport.hockey\n",
              "9  \\nIf a Christian means someone who believes in...        talk.religion.misc"
            ],
            "text/html": [
              "\n",
              "  <div id=\"df-15b38cd3-4eaf-4702-b587-31b140f276ac\" class=\"colab-df-container\">\n",
              "    <div>\n",
              "<style scoped>\n",
              "    .dataframe tbody tr th:only-of-type {\n",
              "        vertical-align: middle;\n",
              "    }\n",
              "\n",
              "    .dataframe tbody tr th {\n",
              "        vertical-align: top;\n",
              "    }\n",
              "\n",
              "    .dataframe thead th {\n",
              "        text-align: right;\n",
              "    }\n",
              "</style>\n",
              "<table border=\"1\" class=\"dataframe\">\n",
              "  <thead>\n",
              "    <tr style=\"text-align: right;\">\n",
              "      <th></th>\n",
              "      <th>text</th>\n",
              "      <th>category</th>\n",
              "    </tr>\n",
              "  </thead>\n",
              "  <tbody>\n",
              "    <tr>\n",
              "      <th>0</th>\n",
              "      <td>\\n\\nI am sure some bashers of Pens fans are pr...</td>\n",
              "      <td>rec.sport.hockey</td>\n",
              "    </tr>\n",
              "    <tr>\n",
              "      <th>1</th>\n",
              "      <td>My brother is in the market for a high-perform...</td>\n",
              "      <td>comp.sys.ibm.pc.hardware</td>\n",
              "    </tr>\n",
              "    <tr>\n",
              "      <th>2</th>\n",
              "      <td>\\n\\n\\n\\n\\tFinally you said what you dream abou...</td>\n",
              "      <td>talk.politics.mideast</td>\n",
              "    </tr>\n",
              "    <tr>\n",
              "      <th>3</th>\n",
              "      <td>\\nThink!\\n\\nIt's the SCSI card doing the DMA t...</td>\n",
              "      <td>comp.sys.ibm.pc.hardware</td>\n",
              "    </tr>\n",
              "    <tr>\n",
              "      <th>4</th>\n",
              "      <td>1)    I have an old Jasmine drive which I cann...</td>\n",
              "      <td>comp.sys.mac.hardware</td>\n",
              "    </tr>\n",
              "    <tr>\n",
              "      <th>5</th>\n",
              "      <td>\\n\\nBack in high school I worked as a lab assi...</td>\n",
              "      <td>sci.electronics</td>\n",
              "    </tr>\n",
              "    <tr>\n",
              "      <th>6</th>\n",
              "      <td>\\n\\nAE is in Dallas...try 214/241-6060 or 214/...</td>\n",
              "      <td>comp.sys.mac.hardware</td>\n",
              "    </tr>\n",
              "    <tr>\n",
              "      <th>7</th>\n",
              "      <td>\\n[stuff deleted]\\n\\nOk, here's the solution t...</td>\n",
              "      <td>rec.sport.hockey</td>\n",
              "    </tr>\n",
              "    <tr>\n",
              "      <th>8</th>\n",
              "      <td>\\n\\n\\nYeah, it's the second one.  And I believ...</td>\n",
              "      <td>rec.sport.hockey</td>\n",
              "    </tr>\n",
              "    <tr>\n",
              "      <th>9</th>\n",
              "      <td>\\nIf a Christian means someone who believes in...</td>\n",
              "      <td>talk.religion.misc</td>\n",
              "    </tr>\n",
              "  </tbody>\n",
              "</table>\n",
              "</div>\n",
              "    <div class=\"colab-df-buttons\">\n",
              "\n",
              "  <div class=\"colab-df-container\">\n",
              "    <button class=\"colab-df-convert\" onclick=\"convertToInteractive('df-15b38cd3-4eaf-4702-b587-31b140f276ac')\"\n",
              "            title=\"Convert this dataframe to an interactive table.\"\n",
              "            style=\"display:none;\">\n",
              "\n",
              "  <svg xmlns=\"http://www.w3.org/2000/svg\" height=\"24px\" viewBox=\"0 -960 960 960\">\n",
              "    <path d=\"M120-120v-720h720v720H120Zm60-500h600v-160H180v160Zm220 220h160v-160H400v160Zm0 220h160v-160H400v160ZM180-400h160v-160H180v160Zm440 0h160v-160H620v160ZM180-180h160v-160H180v160Zm440 0h160v-160H620v160Z\"/>\n",
              "  </svg>\n",
              "    </button>\n",
              "\n",
              "  <style>\n",
              "    .colab-df-container {\n",
              "      display:flex;\n",
              "      gap: 12px;\n",
              "    }\n",
              "\n",
              "    .colab-df-convert {\n",
              "      background-color: #E8F0FE;\n",
              "      border: none;\n",
              "      border-radius: 50%;\n",
              "      cursor: pointer;\n",
              "      display: none;\n",
              "      fill: #1967D2;\n",
              "      height: 32px;\n",
              "      padding: 0 0 0 0;\n",
              "      width: 32px;\n",
              "    }\n",
              "\n",
              "    .colab-df-convert:hover {\n",
              "      background-color: #E2EBFA;\n",
              "      box-shadow: 0px 1px 2px rgba(60, 64, 67, 0.3), 0px 1px 3px 1px rgba(60, 64, 67, 0.15);\n",
              "      fill: #174EA6;\n",
              "    }\n",
              "\n",
              "    .colab-df-buttons div {\n",
              "      margin-bottom: 4px;\n",
              "    }\n",
              "\n",
              "    [theme=dark] .colab-df-convert {\n",
              "      background-color: #3B4455;\n",
              "      fill: #D2E3FC;\n",
              "    }\n",
              "\n",
              "    [theme=dark] .colab-df-convert:hover {\n",
              "      background-color: #434B5C;\n",
              "      box-shadow: 0px 1px 3px 1px rgba(0, 0, 0, 0.15);\n",
              "      filter: drop-shadow(0px 1px 2px rgba(0, 0, 0, 0.3));\n",
              "      fill: #FFFFFF;\n",
              "    }\n",
              "  </style>\n",
              "\n",
              "    <script>\n",
              "      const buttonEl =\n",
              "        document.querySelector('#df-15b38cd3-4eaf-4702-b587-31b140f276ac button.colab-df-convert');\n",
              "      buttonEl.style.display =\n",
              "        google.colab.kernel.accessAllowed ? 'block' : 'none';\n",
              "\n",
              "      async function convertToInteractive(key) {\n",
              "        const element = document.querySelector('#df-15b38cd3-4eaf-4702-b587-31b140f276ac');\n",
              "        const dataTable =\n",
              "          await google.colab.kernel.invokeFunction('convertToInteractive',\n",
              "                                                    [key], {});\n",
              "        if (!dataTable) return;\n",
              "\n",
              "        const docLinkHtml = 'Like what you see? Visit the ' +\n",
              "          '<a target=\"_blank\" href=https://colab.research.google.com/notebooks/data_table.ipynb>data table notebook</a>'\n",
              "          + ' to learn more about interactive tables.';\n",
              "        element.innerHTML = '';\n",
              "        dataTable['output_type'] = 'display_data';\n",
              "        await google.colab.output.renderOutput(dataTable, element);\n",
              "        const docLink = document.createElement('div');\n",
              "        docLink.innerHTML = docLinkHtml;\n",
              "        element.appendChild(docLink);\n",
              "      }\n",
              "    </script>\n",
              "  </div>\n",
              "\n",
              "\n",
              "<div id=\"df-9707f5eb-d6eb-4a08-9d8a-9b891e14f770\">\n",
              "  <button class=\"colab-df-quickchart\" onclick=\"quickchart('df-9707f5eb-d6eb-4a08-9d8a-9b891e14f770')\"\n",
              "            title=\"Suggest charts\"\n",
              "            style=\"display:none;\">\n",
              "\n",
              "<svg xmlns=\"http://www.w3.org/2000/svg\" height=\"24px\"viewBox=\"0 0 24 24\"\n",
              "     width=\"24px\">\n",
              "    <g>\n",
              "        <path d=\"M19 3H5c-1.1 0-2 .9-2 2v14c0 1.1.9 2 2 2h14c1.1 0 2-.9 2-2V5c0-1.1-.9-2-2-2zM9 17H7v-7h2v7zm4 0h-2V7h2v10zm4 0h-2v-4h2v4z\"/>\n",
              "    </g>\n",
              "</svg>\n",
              "  </button>\n",
              "\n",
              "<style>\n",
              "  .colab-df-quickchart {\n",
              "      --bg-color: #E8F0FE;\n",
              "      --fill-color: #1967D2;\n",
              "      --hover-bg-color: #E2EBFA;\n",
              "      --hover-fill-color: #174EA6;\n",
              "      --disabled-fill-color: #AAA;\n",
              "      --disabled-bg-color: #DDD;\n",
              "  }\n",
              "\n",
              "  [theme=dark] .colab-df-quickchart {\n",
              "      --bg-color: #3B4455;\n",
              "      --fill-color: #D2E3FC;\n",
              "      --hover-bg-color: #434B5C;\n",
              "      --hover-fill-color: #FFFFFF;\n",
              "      --disabled-bg-color: #3B4455;\n",
              "      --disabled-fill-color: #666;\n",
              "  }\n",
              "\n",
              "  .colab-df-quickchart {\n",
              "    background-color: var(--bg-color);\n",
              "    border: none;\n",
              "    border-radius: 50%;\n",
              "    cursor: pointer;\n",
              "    display: none;\n",
              "    fill: var(--fill-color);\n",
              "    height: 32px;\n",
              "    padding: 0;\n",
              "    width: 32px;\n",
              "  }\n",
              "\n",
              "  .colab-df-quickchart:hover {\n",
              "    background-color: var(--hover-bg-color);\n",
              "    box-shadow: 0 1px 2px rgba(60, 64, 67, 0.3), 0 1px 3px 1px rgba(60, 64, 67, 0.15);\n",
              "    fill: var(--button-hover-fill-color);\n",
              "  }\n",
              "\n",
              "  .colab-df-quickchart-complete:disabled,\n",
              "  .colab-df-quickchart-complete:disabled:hover {\n",
              "    background-color: var(--disabled-bg-color);\n",
              "    fill: var(--disabled-fill-color);\n",
              "    box-shadow: none;\n",
              "  }\n",
              "\n",
              "  .colab-df-spinner {\n",
              "    border: 2px solid var(--fill-color);\n",
              "    border-color: transparent;\n",
              "    border-bottom-color: var(--fill-color);\n",
              "    animation:\n",
              "      spin 1s steps(1) infinite;\n",
              "  }\n",
              "\n",
              "  @keyframes spin {\n",
              "    0% {\n",
              "      border-color: transparent;\n",
              "      border-bottom-color: var(--fill-color);\n",
              "      border-left-color: var(--fill-color);\n",
              "    }\n",
              "    20% {\n",
              "      border-color: transparent;\n",
              "      border-left-color: var(--fill-color);\n",
              "      border-top-color: var(--fill-color);\n",
              "    }\n",
              "    30% {\n",
              "      border-color: transparent;\n",
              "      border-left-color: var(--fill-color);\n",
              "      border-top-color: var(--fill-color);\n",
              "      border-right-color: var(--fill-color);\n",
              "    }\n",
              "    40% {\n",
              "      border-color: transparent;\n",
              "      border-right-color: var(--fill-color);\n",
              "      border-top-color: var(--fill-color);\n",
              "    }\n",
              "    60% {\n",
              "      border-color: transparent;\n",
              "      border-right-color: var(--fill-color);\n",
              "    }\n",
              "    80% {\n",
              "      border-color: transparent;\n",
              "      border-right-color: var(--fill-color);\n",
              "      border-bottom-color: var(--fill-color);\n",
              "    }\n",
              "    90% {\n",
              "      border-color: transparent;\n",
              "      border-bottom-color: var(--fill-color);\n",
              "    }\n",
              "  }\n",
              "</style>\n",
              "\n",
              "  <script>\n",
              "    async function quickchart(key) {\n",
              "      const quickchartButtonEl =\n",
              "        document.querySelector('#' + key + ' button');\n",
              "      quickchartButtonEl.disabled = true;  // To prevent multiple clicks.\n",
              "      quickchartButtonEl.classList.add('colab-df-spinner');\n",
              "      try {\n",
              "        const charts = await google.colab.kernel.invokeFunction(\n",
              "            'suggestCharts', [key], {});\n",
              "      } catch (error) {\n",
              "        console.error('Error during call to suggestCharts:', error);\n",
              "      }\n",
              "      quickchartButtonEl.classList.remove('colab-df-spinner');\n",
              "      quickchartButtonEl.classList.add('colab-df-quickchart-complete');\n",
              "    }\n",
              "    (() => {\n",
              "      let quickchartButtonEl =\n",
              "        document.querySelector('#df-9707f5eb-d6eb-4a08-9d8a-9b891e14f770 button');\n",
              "      quickchartButtonEl.style.display =\n",
              "        google.colab.kernel.accessAllowed ? 'block' : 'none';\n",
              "    })();\n",
              "  </script>\n",
              "</div>\n",
              "\n",
              "    </div>\n",
              "  </div>\n"
            ],
            "application/vnd.google.colaboratory.intrinsic+json": {
              "type": "dataframe",
              "variable_name": "df",
              "summary": "{\n  \"name\": \"df\",\n  \"rows\": 18846,\n  \"fields\": [\n    {\n      \"column\": \"text\",\n      \"properties\": {\n        \"dtype\": \"string\",\n        \"num_unique_values\": 18287,\n        \"samples\": [\n          \"I remember someone mention about a 150meg syquest.  Has anyone else\\nheard anything about this?  I'd be interested in the cost per megabyte and the\\napproximate cost of the drive itself and how they compare to the Bernoulli 150.\\n\",\n          \": >Atoms are not objective.  They aren't even real.  What scientists call\\n: >an atom is nothing more than a mathematical model that describes \\n: >certain physical, observable properties of our surroundings.  All\\n: >of which is subjective.  \\n: >\\n: >-jim halat\\n\\n: This deserves framing.  It really does.  \\\"[Atoms] aren't even real.\\\"\\n\\n: Tell me then, those atoms we have seen with electron microscopes are\\n: atoms now, so what are they?  Figments of our imaginations?  The\\n: evidence that atoms are real is overwhelming, but I won't bother with\\n: most evidence at the moment.\\n\\nYou would have us believe that what the eye perceives as images are\\nactaully there - as perceived? This may be interesting. I thought\\nthat an electron microscope was used because no wavelength of \\\"light\\\"\\ncan illuminate any \\\"object\\\" of atomic scale. If this image is to have\\nuseful resolution, wouldn't the illuminating sources wavelength have\\nto be several orders of magnitude less than size of thing observed?\\n\\nIf an atom is a \\\"probablity cloud\\\", lower resolutions would give the\\nappearance of solidity, but it seems fairly certain that an atom is\\nnot an object is any conventional sense. Obviously I am not a\\nphysicist, but the question does have ramification of a philosophic\\nnature. Anyway, just a stray thought, carry on ...\",\n          \"\\n\\nThat's a good way to put it.  It's a quiet confidence.  I don't feel like\\nI have to defend this team anymore. \\n\\nThe Devils are a puzzle to me.  They have long been one of the few teams\\nI always dreaded playing.  Their D isn't quite what it used to be but they\\nstill usually play us pretty tough.  I just can't figure it out.  At least\\nlast night they mounted an attack.\\n\\n\\nBernie Nichols was interviewed after Game 2 on the late news.  He was\\nshaking his head in disbelief over Barrasso, saying that Tommy is like\\nanother defenseman out there and how difficult it is playing against him.\\nThen he got this far-away look on his face, his voice started trailing\\noff and he said, \\\"It just isn't right...it just isn't fair...\\\" and he\\ntried to muster a smile.\\n\\n\\nAs far as coaching goes, a Pens/Islanders match-up should be pretty good.\\n\\nOne guy I feel sorry for in all of this so far is Chris Terreri.  I'm sure\\nTom Barrasso knows how he feels.  For so long Tommy would look up and not\\nhave a teammate in sight.  Terreri's teammates really left him out in the\\ncold in the first two games.\"\n        ],\n        \"semantic_type\": \"\",\n        \"description\": \"\"\n      }\n    },\n    {\n      \"column\": \"category\",\n      \"properties\": {\n        \"dtype\": \"category\",\n        \"num_unique_values\": 20,\n        \"samples\": [\n          \"rec.sport.hockey\",\n          \"talk.politics.misc\",\n          \"misc.forsale\"\n        ],\n        \"semantic_type\": \"\",\n        \"description\": \"\"\n      }\n    }\n  ]\n}"
            }
          },
          "metadata": {},
          "execution_count": 3
        }
      ]
    },
    {
      "cell_type": "code",
      "source": [
        "df.columns"
      ],
      "metadata": {
        "colab": {
          "base_uri": "https://localhost:8080/"
        },
        "id": "LeUUWkLKMKP0",
        "outputId": "c3ae7ec7-ae37-4091-d4b9-3efcc2d2cb7b"
      },
      "execution_count": 4,
      "outputs": [
        {
          "output_type": "execute_result",
          "data": {
            "text/plain": [
              "Index(['text', 'category'], dtype='object')"
            ]
          },
          "metadata": {},
          "execution_count": 4
        }
      ]
    },
    {
      "cell_type": "code",
      "source": [
        "df.shape"
      ],
      "metadata": {
        "colab": {
          "base_uri": "https://localhost:8080/"
        },
        "id": "iJulyv5iR4uS",
        "outputId": "0314662a-b83d-4ac1-cfad-e444c8087c4e"
      },
      "execution_count": 5,
      "outputs": [
        {
          "output_type": "execute_result",
          "data": {
            "text/plain": [
              "(18846, 2)"
            ]
          },
          "metadata": {},
          "execution_count": 5
        }
      ]
    },
    {
      "cell_type": "code",
      "source": [
        "df.info()"
      ],
      "metadata": {
        "colab": {
          "base_uri": "https://localhost:8080/"
        },
        "id": "GCRUA6NASBlQ",
        "outputId": "dc8889e4-67b1-4c13-c961-fcac516118e1"
      },
      "execution_count": 6,
      "outputs": [
        {
          "output_type": "stream",
          "name": "stdout",
          "text": [
            "<class 'pandas.core.frame.DataFrame'>\n",
            "RangeIndex: 18846 entries, 0 to 18845\n",
            "Data columns (total 2 columns):\n",
            " #   Column    Non-Null Count  Dtype \n",
            "---  ------    --------------  ----- \n",
            " 0   text      18846 non-null  object\n",
            " 1   category  18846 non-null  object\n",
            "dtypes: object(2)\n",
            "memory usage: 294.6+ KB\n"
          ]
        }
      ]
    },
    {
      "cell_type": "code",
      "source": [
        "df.describe()"
      ],
      "metadata": {
        "colab": {
          "base_uri": "https://localhost:8080/",
          "height": 175
        },
        "id": "kaTJc00xUJGZ",
        "outputId": "c7a5bf53-b791-49f0-98d4-86a3ed5de2b9"
      },
      "execution_count": 7,
      "outputs": [
        {
          "output_type": "execute_result",
          "data": {
            "text/plain": [
              "         text          category\n",
              "count   18846             18846\n",
              "unique  18287                20\n",
              "top            rec.sport.hockey\n",
              "freq      380               999"
            ],
            "text/html": [
              "\n",
              "  <div id=\"df-c5e55d4a-f7a9-4a6a-835e-3729d90a535d\" class=\"colab-df-container\">\n",
              "    <div>\n",
              "<style scoped>\n",
              "    .dataframe tbody tr th:only-of-type {\n",
              "        vertical-align: middle;\n",
              "    }\n",
              "\n",
              "    .dataframe tbody tr th {\n",
              "        vertical-align: top;\n",
              "    }\n",
              "\n",
              "    .dataframe thead th {\n",
              "        text-align: right;\n",
              "    }\n",
              "</style>\n",
              "<table border=\"1\" class=\"dataframe\">\n",
              "  <thead>\n",
              "    <tr style=\"text-align: right;\">\n",
              "      <th></th>\n",
              "      <th>text</th>\n",
              "      <th>category</th>\n",
              "    </tr>\n",
              "  </thead>\n",
              "  <tbody>\n",
              "    <tr>\n",
              "      <th>count</th>\n",
              "      <td>18846</td>\n",
              "      <td>18846</td>\n",
              "    </tr>\n",
              "    <tr>\n",
              "      <th>unique</th>\n",
              "      <td>18287</td>\n",
              "      <td>20</td>\n",
              "    </tr>\n",
              "    <tr>\n",
              "      <th>top</th>\n",
              "      <td></td>\n",
              "      <td>rec.sport.hockey</td>\n",
              "    </tr>\n",
              "    <tr>\n",
              "      <th>freq</th>\n",
              "      <td>380</td>\n",
              "      <td>999</td>\n",
              "    </tr>\n",
              "  </tbody>\n",
              "</table>\n",
              "</div>\n",
              "    <div class=\"colab-df-buttons\">\n",
              "\n",
              "  <div class=\"colab-df-container\">\n",
              "    <button class=\"colab-df-convert\" onclick=\"convertToInteractive('df-c5e55d4a-f7a9-4a6a-835e-3729d90a535d')\"\n",
              "            title=\"Convert this dataframe to an interactive table.\"\n",
              "            style=\"display:none;\">\n",
              "\n",
              "  <svg xmlns=\"http://www.w3.org/2000/svg\" height=\"24px\" viewBox=\"0 -960 960 960\">\n",
              "    <path d=\"M120-120v-720h720v720H120Zm60-500h600v-160H180v160Zm220 220h160v-160H400v160Zm0 220h160v-160H400v160ZM180-400h160v-160H180v160Zm440 0h160v-160H620v160ZM180-180h160v-160H180v160Zm440 0h160v-160H620v160Z\"/>\n",
              "  </svg>\n",
              "    </button>\n",
              "\n",
              "  <style>\n",
              "    .colab-df-container {\n",
              "      display:flex;\n",
              "      gap: 12px;\n",
              "    }\n",
              "\n",
              "    .colab-df-convert {\n",
              "      background-color: #E8F0FE;\n",
              "      border: none;\n",
              "      border-radius: 50%;\n",
              "      cursor: pointer;\n",
              "      display: none;\n",
              "      fill: #1967D2;\n",
              "      height: 32px;\n",
              "      padding: 0 0 0 0;\n",
              "      width: 32px;\n",
              "    }\n",
              "\n",
              "    .colab-df-convert:hover {\n",
              "      background-color: #E2EBFA;\n",
              "      box-shadow: 0px 1px 2px rgba(60, 64, 67, 0.3), 0px 1px 3px 1px rgba(60, 64, 67, 0.15);\n",
              "      fill: #174EA6;\n",
              "    }\n",
              "\n",
              "    .colab-df-buttons div {\n",
              "      margin-bottom: 4px;\n",
              "    }\n",
              "\n",
              "    [theme=dark] .colab-df-convert {\n",
              "      background-color: #3B4455;\n",
              "      fill: #D2E3FC;\n",
              "    }\n",
              "\n",
              "    [theme=dark] .colab-df-convert:hover {\n",
              "      background-color: #434B5C;\n",
              "      box-shadow: 0px 1px 3px 1px rgba(0, 0, 0, 0.15);\n",
              "      filter: drop-shadow(0px 1px 2px rgba(0, 0, 0, 0.3));\n",
              "      fill: #FFFFFF;\n",
              "    }\n",
              "  </style>\n",
              "\n",
              "    <script>\n",
              "      const buttonEl =\n",
              "        document.querySelector('#df-c5e55d4a-f7a9-4a6a-835e-3729d90a535d button.colab-df-convert');\n",
              "      buttonEl.style.display =\n",
              "        google.colab.kernel.accessAllowed ? 'block' : 'none';\n",
              "\n",
              "      async function convertToInteractive(key) {\n",
              "        const element = document.querySelector('#df-c5e55d4a-f7a9-4a6a-835e-3729d90a535d');\n",
              "        const dataTable =\n",
              "          await google.colab.kernel.invokeFunction('convertToInteractive',\n",
              "                                                    [key], {});\n",
              "        if (!dataTable) return;\n",
              "\n",
              "        const docLinkHtml = 'Like what you see? Visit the ' +\n",
              "          '<a target=\"_blank\" href=https://colab.research.google.com/notebooks/data_table.ipynb>data table notebook</a>'\n",
              "          + ' to learn more about interactive tables.';\n",
              "        element.innerHTML = '';\n",
              "        dataTable['output_type'] = 'display_data';\n",
              "        await google.colab.output.renderOutput(dataTable, element);\n",
              "        const docLink = document.createElement('div');\n",
              "        docLink.innerHTML = docLinkHtml;\n",
              "        element.appendChild(docLink);\n",
              "      }\n",
              "    </script>\n",
              "  </div>\n",
              "\n",
              "\n",
              "<div id=\"df-496113f8-c427-45f6-8d54-4a7ec449dcd6\">\n",
              "  <button class=\"colab-df-quickchart\" onclick=\"quickchart('df-496113f8-c427-45f6-8d54-4a7ec449dcd6')\"\n",
              "            title=\"Suggest charts\"\n",
              "            style=\"display:none;\">\n",
              "\n",
              "<svg xmlns=\"http://www.w3.org/2000/svg\" height=\"24px\"viewBox=\"0 0 24 24\"\n",
              "     width=\"24px\">\n",
              "    <g>\n",
              "        <path d=\"M19 3H5c-1.1 0-2 .9-2 2v14c0 1.1.9 2 2 2h14c1.1 0 2-.9 2-2V5c0-1.1-.9-2-2-2zM9 17H7v-7h2v7zm4 0h-2V7h2v10zm4 0h-2v-4h2v4z\"/>\n",
              "    </g>\n",
              "</svg>\n",
              "  </button>\n",
              "\n",
              "<style>\n",
              "  .colab-df-quickchart {\n",
              "      --bg-color: #E8F0FE;\n",
              "      --fill-color: #1967D2;\n",
              "      --hover-bg-color: #E2EBFA;\n",
              "      --hover-fill-color: #174EA6;\n",
              "      --disabled-fill-color: #AAA;\n",
              "      --disabled-bg-color: #DDD;\n",
              "  }\n",
              "\n",
              "  [theme=dark] .colab-df-quickchart {\n",
              "      --bg-color: #3B4455;\n",
              "      --fill-color: #D2E3FC;\n",
              "      --hover-bg-color: #434B5C;\n",
              "      --hover-fill-color: #FFFFFF;\n",
              "      --disabled-bg-color: #3B4455;\n",
              "      --disabled-fill-color: #666;\n",
              "  }\n",
              "\n",
              "  .colab-df-quickchart {\n",
              "    background-color: var(--bg-color);\n",
              "    border: none;\n",
              "    border-radius: 50%;\n",
              "    cursor: pointer;\n",
              "    display: none;\n",
              "    fill: var(--fill-color);\n",
              "    height: 32px;\n",
              "    padding: 0;\n",
              "    width: 32px;\n",
              "  }\n",
              "\n",
              "  .colab-df-quickchart:hover {\n",
              "    background-color: var(--hover-bg-color);\n",
              "    box-shadow: 0 1px 2px rgba(60, 64, 67, 0.3), 0 1px 3px 1px rgba(60, 64, 67, 0.15);\n",
              "    fill: var(--button-hover-fill-color);\n",
              "  }\n",
              "\n",
              "  .colab-df-quickchart-complete:disabled,\n",
              "  .colab-df-quickchart-complete:disabled:hover {\n",
              "    background-color: var(--disabled-bg-color);\n",
              "    fill: var(--disabled-fill-color);\n",
              "    box-shadow: none;\n",
              "  }\n",
              "\n",
              "  .colab-df-spinner {\n",
              "    border: 2px solid var(--fill-color);\n",
              "    border-color: transparent;\n",
              "    border-bottom-color: var(--fill-color);\n",
              "    animation:\n",
              "      spin 1s steps(1) infinite;\n",
              "  }\n",
              "\n",
              "  @keyframes spin {\n",
              "    0% {\n",
              "      border-color: transparent;\n",
              "      border-bottom-color: var(--fill-color);\n",
              "      border-left-color: var(--fill-color);\n",
              "    }\n",
              "    20% {\n",
              "      border-color: transparent;\n",
              "      border-left-color: var(--fill-color);\n",
              "      border-top-color: var(--fill-color);\n",
              "    }\n",
              "    30% {\n",
              "      border-color: transparent;\n",
              "      border-left-color: var(--fill-color);\n",
              "      border-top-color: var(--fill-color);\n",
              "      border-right-color: var(--fill-color);\n",
              "    }\n",
              "    40% {\n",
              "      border-color: transparent;\n",
              "      border-right-color: var(--fill-color);\n",
              "      border-top-color: var(--fill-color);\n",
              "    }\n",
              "    60% {\n",
              "      border-color: transparent;\n",
              "      border-right-color: var(--fill-color);\n",
              "    }\n",
              "    80% {\n",
              "      border-color: transparent;\n",
              "      border-right-color: var(--fill-color);\n",
              "      border-bottom-color: var(--fill-color);\n",
              "    }\n",
              "    90% {\n",
              "      border-color: transparent;\n",
              "      border-bottom-color: var(--fill-color);\n",
              "    }\n",
              "  }\n",
              "</style>\n",
              "\n",
              "  <script>\n",
              "    async function quickchart(key) {\n",
              "      const quickchartButtonEl =\n",
              "        document.querySelector('#' + key + ' button');\n",
              "      quickchartButtonEl.disabled = true;  // To prevent multiple clicks.\n",
              "      quickchartButtonEl.classList.add('colab-df-spinner');\n",
              "      try {\n",
              "        const charts = await google.colab.kernel.invokeFunction(\n",
              "            'suggestCharts', [key], {});\n",
              "      } catch (error) {\n",
              "        console.error('Error during call to suggestCharts:', error);\n",
              "      }\n",
              "      quickchartButtonEl.classList.remove('colab-df-spinner');\n",
              "      quickchartButtonEl.classList.add('colab-df-quickchart-complete');\n",
              "    }\n",
              "    (() => {\n",
              "      let quickchartButtonEl =\n",
              "        document.querySelector('#df-496113f8-c427-45f6-8d54-4a7ec449dcd6 button');\n",
              "      quickchartButtonEl.style.display =\n",
              "        google.colab.kernel.accessAllowed ? 'block' : 'none';\n",
              "    })();\n",
              "  </script>\n",
              "</div>\n",
              "\n",
              "    </div>\n",
              "  </div>\n"
            ],
            "application/vnd.google.colaboratory.intrinsic+json": {
              "type": "dataframe",
              "summary": "{\n  \"name\": \"df\",\n  \"rows\": 4,\n  \"fields\": [\n    {\n      \"column\": \"text\",\n      \"properties\": {\n        \"dtype\": \"date\",\n        \"min\": \"1970-01-01 00:00:00.000000380\",\n        \"max\": \"1970-01-01 00:00:00.000018846\",\n        \"num_unique_values\": 4,\n        \"samples\": [\n          18287,\n          \"380\",\n          \"18846\"\n        ],\n        \"semantic_type\": \"\",\n        \"description\": \"\"\n      }\n    },\n    {\n      \"column\": \"category\",\n      \"properties\": {\n        \"dtype\": \"string\",\n        \"num_unique_values\": 4,\n        \"samples\": [\n          20,\n          \"999\",\n          \"18846\"\n        ],\n        \"semantic_type\": \"\",\n        \"description\": \"\"\n      }\n    }\n  ]\n}"
            }
          },
          "metadata": {},
          "execution_count": 7
        }
      ]
    },
    {
      "cell_type": "code",
      "source": [
        "# Find unique document classes (categories)\n",
        "unique_classes = df['category'].unique()\n",
        "\n",
        "# Display unique classes\n",
        "print(\"Unique Document Classes:\")\n",
        "for i, class_name in enumerate(unique_classes):\n",
        "    print(f\"{i + 1}: {class_name}\")"
      ],
      "metadata": {
        "colab": {
          "base_uri": "https://localhost:8080/"
        },
        "id": "bYzlTrQInn5t",
        "outputId": "00dae513-7713-4894-f3ca-cc7682fa8fff"
      },
      "execution_count": 8,
      "outputs": [
        {
          "output_type": "stream",
          "name": "stdout",
          "text": [
            "Unique Document Classes:\n",
            "1: rec.sport.hockey\n",
            "2: comp.sys.ibm.pc.hardware\n",
            "3: talk.politics.mideast\n",
            "4: comp.sys.mac.hardware\n",
            "5: sci.electronics\n",
            "6: talk.religion.misc\n",
            "7: sci.crypt\n",
            "8: sci.med\n",
            "9: alt.atheism\n",
            "10: rec.motorcycles\n",
            "11: rec.autos\n",
            "12: comp.windows.x\n",
            "13: comp.graphics\n",
            "14: sci.space\n",
            "15: talk.politics.guns\n",
            "16: misc.forsale\n",
            "17: rec.sport.baseball\n",
            "18: talk.politics.misc\n",
            "19: comp.os.ms-windows.misc\n",
            "20: soc.religion.christian\n"
          ]
        }
      ]
    },
    {
      "cell_type": "code",
      "source": [
        "# Convert documents to TF-IDF matrix\n",
        "vectorizer = TfidfVectorizer(max_features=2000)  # Limit features for efficiency\n",
        "tfidf_matrix = vectorizer.fit_transform(df['text'])\n",
        "\n",
        "# Display the shape of the TF-IDF matrix\n",
        "print(\"TF-IDF Matrix Shape:\", tfidf_matrix.shape)"
      ],
      "metadata": {
        "colab": {
          "base_uri": "https://localhost:8080/"
        },
        "id": "LlPLR42HMSYX",
        "outputId": "5ee2852e-35d5-459c-ea28-b4fdcf117368"
      },
      "execution_count": 9,
      "outputs": [
        {
          "output_type": "stream",
          "name": "stdout",
          "text": [
            "TF-IDF Matrix Shape: (18846, 2000)\n"
          ]
        }
      ]
    },
    {
      "cell_type": "code",
      "source": [
        "# Apply SVD to reduce dimensions\n",
        "n_components = min(100, tfidf_matrix.shape[1])  # Ensure n_components does not exceed number of features\n",
        "svd = TruncatedSVD(n_components=n_components)\n",
        "reduced_matrix = svd.fit_transform(tfidf_matrix)\n",
        "\n",
        "# Display reduced matrix shape\n",
        "print(\"Reduced Matrix Shape:\", reduced_matrix.shape)"
      ],
      "metadata": {
        "colab": {
          "base_uri": "https://localhost:8080/"
        },
        "id": "TYP9lHiBMYCp",
        "outputId": "5c0909a2-bbe0-4620-f3ed-cfd3b7bb6b22"
      },
      "execution_count": 10,
      "outputs": [
        {
          "output_type": "stream",
          "name": "stdout",
          "text": [
            "Reduced Matrix Shape: (18846, 100)\n"
          ]
        }
      ]
    },
    {
      "cell_type": "code",
      "source": [
        "# Prepare features and target variable for training the model\n",
        "X = reduced_matrix\n",
        "y = df['category']  # Correctly set y to be a single column\n",
        "\n",
        "# Split the dataset into training and testing sets\n",
        "X_train, X_test, y_train, y_test = train_test_split(X, y, test_size=0.2, random_state=42)\n",
        "\n",
        "# Handle class imbalance using SMOTE if necessary (optional)\n",
        "smote = SMOTE(random_state=42)\n",
        "X_train_resampled, y_train_resampled = smote.fit_resample(X_train, y_train)\n",
        "\n",
        "# Feature scaling (optional but recommended)\n",
        "scaler = StandardScaler()\n",
        "X_train_scaled = scaler.fit_transform(X_train_resampled)\n",
        "X_test_scaled = scaler.transform(X_test)"
      ],
      "metadata": {
        "id": "oQAWJ4NqMcQk"
      },
      "execution_count": 11,
      "outputs": []
    },
    {
      "cell_type": "code",
      "source": [
        "# Define models to evaluate with varying complexities and expected performance levels.\n",
        "models = {\n",
        "    \"Logistic Regression\": LogisticRegression(max_iter=1000),\n",
        "}\n",
        "\n",
        "# Store accuracy results for comparison.\n",
        "accuracy_results = {}\n",
        "\n",
        "for model_name, model in models.items():\n",
        "    # Fit the model on the training data.\n",
        "    model.fit(X_train_scaled, y_train_resampled)\n",
        "\n",
        "    # Predict on the test set and calculate accuracy.\n",
        "    y_pred = model.predict(X_test_scaled)\n",
        "    accuracy = accuracy_score(y_test, y_pred)\n",
        "\n",
        "    # Store accuracy results in dictionary.\n",
        "    accuracy_results[model_name] = accuracy\n",
        "\n",
        "# Display accuracy results for all models.\n",
        "print(\"Model Accuracy:\")\n",
        "for name, acc in accuracy_results.items():\n",
        "    print(f\"{name}: {acc:.2f}\")"
      ],
      "metadata": {
        "colab": {
          "base_uri": "https://localhost:8080/"
        },
        "id": "N-2EQ2S6MhQW",
        "outputId": "1e403e44-52c2-4558-c3a5-d66b7938eb70"
      },
      "execution_count": 12,
      "outputs": [
        {
          "output_type": "stream",
          "name": "stdout",
          "text": [
            "Model Accuracy:\n",
            "Logistic Regression: 0.52\n"
          ]
        }
      ]
    },
    {
      "cell_type": "code",
      "source": [
        "import numpy as np\n",
        "\n",
        "# Sigmoid function\n",
        "def sigmoid(x):\n",
        "    return 1 / (1 + np.exp(-x))\n",
        "\n",
        "# Logistic loss\n",
        "def logistic_loss(X, y, w):\n",
        "    m = len(y)\n",
        "    predictions = sigmoid(X @ w)\n",
        "    loss = -np.sum(y * np.log(predictions + 1e-8) + (1 - y) * np.log(1 - predictions + 1e-8)) / m\n",
        "    return loss\n",
        "\n",
        "# ADMM implementation\n",
        "def admm_logistic_regression(X, y, lambda_reg=1.0, rho=1.0, alpha=1.0, max_iter=1000, tol=1e-4):\n",
        "    m, n = X.shape\n",
        "    w = np.zeros(n)  # Logistic regression weights\n",
        "    z = np.zeros(n)  # Auxiliary variable\n",
        "    u = np.zeros(n)  # Dual variable\n",
        "\n",
        "    for k in range(max_iter):\n",
        "        # Step 1: Update w using gradient descent for logistic loss\n",
        "        for _ in range(10):  # Sub-iterations to improve w\n",
        "            gradient = X.T @ (sigmoid(X @ w) - y) / m + rho * (w - z + u)\n",
        "            w -= 0.01 * gradient  # Learning rate (tune as needed)\n",
        "\n",
        "        # Step 2: Update z using soft-thresholding\n",
        "        z_old = z\n",
        "        z = np.sign(w + u) * np.maximum(0, np.abs(w + u) - lambda_reg / rho)\n",
        "\n",
        "        # Step 3: Update dual variable u\n",
        "        u += alpha * (w - z)\n",
        "\n",
        "        # Convergence check\n",
        "        r_norm = np.linalg.norm(w - z)\n",
        "        s_norm = np.linalg.norm(rho * (z - z_old))\n",
        "        if r_norm < tol and s_norm < tol:\n",
        "            break\n",
        "\n",
        "    return w\n",
        "\n",
        "# Function to compute accuracy\n",
        "def compute_accuracy(X, y, w):\n",
        "    \"\"\"\n",
        "    Computes the accuracy of the logistic regression model.\n",
        "\n",
        "    Args:\n",
        "        X: Feature matrix (m x n).\n",
        "        y: True labels (m x 1).\n",
        "        w: Logistic regression weights.\n",
        "\n",
        "    Returns:\n",
        "        Accuracy as a percentage.\n",
        "    \"\"\"\n",
        "    predictions = sigmoid(X @ w) > 0.5  # Convert probabilities to binary predictions\n",
        "    accuracy = np.mean(predictions == y) * 100\n",
        "    return accuracy\n",
        "\n",
        "# Example usage\n",
        "if __name__ == \"__main__\":\n",
        "    # Generate synthetic data\n",
        "    np.random.seed(0)\n",
        "    X = np.random.randn(100, 5)  # 100 samples, 5 features\n",
        "    true_w = np.random.randn(5)\n",
        "    y = (sigmoid(X @ true_w) > 0.5).astype(float)\n",
        "\n",
        "    # Split data into training and testing sets\n",
        "    split_idx = int(0.8 * len(y))\n",
        "    X_train, X_test = X[:split_idx], X[split_idx:]\n",
        "    y_train, y_test = y[:split_idx], y[split_idx:]\n",
        "\n",
        "    # Train using ADMM\n",
        "    lambda_reg = 0.1\n",
        "    w_admm = admm_logistic_regression(X_train, y_train, lambda_reg=lambda_reg)\n",
        "\n",
        "\n",
        "    test_accuracy = compute_accuracy(X_test, y_test, w_admm)\n",
        "    print(f\"Test Accuracy: {test_accuracy:.2f}%\")\n"
      ],
      "metadata": {
        "colab": {
          "base_uri": "https://localhost:8080/"
        },
        "id": "3zenFPchrTUJ",
        "outputId": "39c30af6-6a5c-4449-8cd2-b52020a72684"
      },
      "execution_count": 13,
      "outputs": [
        {
          "output_type": "stream",
          "name": "stdout",
          "text": [
            "Test Accuracy: 75.00%\n"
          ]
        }
      ]
    },
    {
      "cell_type": "code",
      "source": [
        " accuracies = {\n",
        "        \"Standard Logistic Regression\": accuracy_results,\n",
        "        \"ADMM Logistic Regression\": test_accuracy,\n",
        "    }"
      ],
      "metadata": {
        "id": "SFFKryMfu60H"
      },
      "execution_count": 14,
      "outputs": []
    },
    {
      "cell_type": "code",
      "source": [
        "print(\"Accuracies dictionary:\\n\", accuracies)\n"
      ],
      "metadata": {
        "colab": {
          "base_uri": "https://localhost:8080/"
        },
        "id": "4w_OQhvlzSKO",
        "outputId": "43e23a0b-b34f-4ca6-aa6e-b30baa3a25e7"
      },
      "execution_count": 15,
      "outputs": [
        {
          "output_type": "stream",
          "name": "stdout",
          "text": [
            "Accuracies dictionary:\n",
            " {'Standard Logistic Regression': {'Logistic Regression': 0.520159151193634}, 'ADMM Logistic Regression': 75.0}\n"
          ]
        }
      ]
    },
    {
      "cell_type": "code",
      "source": [
        "# Select the first 100 documents for analysis\n",
        "df_subset = df.iloc[:100]\n",
        "\n",
        "# Display the subset of documents\n",
        "print(\"First 100 Documents:\")\n",
        "print(df_subset[['text', 'category']].head())"
      ],
      "metadata": {
        "colab": {
          "base_uri": "https://localhost:8080/"
        },
        "id": "KPiy0d0tzx6I",
        "outputId": "d51d122f-7e1a-4b62-d568-0bbb1451bc65"
      },
      "execution_count": 16,
      "outputs": [
        {
          "output_type": "stream",
          "name": "stdout",
          "text": [
            "First 100 Documents:\n",
            "                                                text                  category\n",
            "0  \\n\\nI am sure some bashers of Pens fans are pr...          rec.sport.hockey\n",
            "1  My brother is in the market for a high-perform...  comp.sys.ibm.pc.hardware\n",
            "2  \\n\\n\\n\\n\\tFinally you said what you dream abou...     talk.politics.mideast\n",
            "3  \\nThink!\\n\\nIt's the SCSI card doing the DMA t...  comp.sys.ibm.pc.hardware\n",
            "4  1)    I have an old Jasmine drive which I cann...     comp.sys.mac.hardware\n"
          ]
        }
      ]
    },
    {
      "cell_type": "code",
      "source": [
        "# Calculate cosine similarity matrix for all document pairs.\n",
        "similarity_matrix = cosine_similarity(reduced_matrix)\n",
        "\n",
        "# Set a similarity threshold (e.g., 0.5).\n",
        "similarity_threshold = 0.5\n",
        "\n",
        "# Prepare lists to store results.\n",
        "similar_pairs = []\n",
        "non_similar_pairs = []\n",
        "\n",
        "# Iterate through the similarity matrix to classify pairs.\n",
        "num_documents = min(similarity_matrix.shape[0], len(df_subset))  # Ensure we don't exceed df_subset length\n",
        "for i in range(num_documents):\n",
        "    for j in range(i + 1, num_documents):  # Avoid duplicate comparisons.\n",
        "        if similarity_matrix[i, j] >= similarity_threshold:\n",
        "            similar_pairs.append((df_subset['text'].iloc[i], df_subset['text'].iloc[j], similarity_matrix[i, j]))\n",
        "        else:\n",
        "            non_similar_pairs.append((df_subset['text'].iloc[i], df_subset['text'].iloc[j], similarity_matrix[i, j]))\n",
        "\n",
        "# Display some examples of similar and non-similar pairs.\n",
        "print(\"\\nSimilar Document Pairs (Sample):\")\n",
        "for pair in similar_pairs[:3]:  # Show first 3 similar pairs.\n",
        "    print(f\"Similarity: {pair[2]:.2f}\\nDoc 1: {pair[0][:100]}...\\nDoc 2: {pair[1][:100]}...\\n\")\n",
        "\n",
        "print(\"\\nNon-Similar Document Pairs (Sample):\")\n",
        "for pair in non_similar_pairs[:3]:  # Show first 3 non-similar pairs.\n",
        "    print(f\"Similarity: {pair[2]:.2f}\\nDoc 1: {pair[0][:100]}...\\nDoc 2: {pair[1][:100]}...\\n\")"
      ],
      "metadata": {
        "colab": {
          "base_uri": "https://localhost:8080/"
        },
        "id": "jlC15KpC4sbS",
        "outputId": "f525a2de-0372-42ba-a04b-92541269eceb"
      },
      "execution_count": 17,
      "outputs": [
        {
          "output_type": "stream",
          "name": "stdout",
          "text": [
            "\n",
            "Similar Document Pairs (Sample):\n",
            "Similarity: 0.72\n",
            "Doc 1: \n",
            "\n",
            "I am sure some bashers of Pens fans are pretty confused about the lack\n",
            "of any kind of posts about ...\n",
            "Doc 2: 930418\n",
            "\n",
            "Do what thou wilt shall be the whole of the Law. [Honestly.]\n",
            "The word of Sin is Restriction....\n",
            "\n",
            "Similarity: 0.68\n",
            "Doc 1: \n",
            "\n",
            "I am sure some bashers of Pens fans are pretty confused about the lack\n",
            "of any kind of posts about ...\n",
            "Doc 2: In the following report: _Turkey Eyes Regional Role_ ANKARA, Turkey (AP)\n",
            "April 27, 1993, we find in ...\n",
            "\n",
            "Similarity: 0.59\n",
            "Doc 1: \n",
            "\n",
            "I am sure some bashers of Pens fans are pretty confused about the lack\n",
            "of any kind of posts about ...\n",
            "Doc 2: \n",
            "The Supreme Court seems to disagree with you -- they have stated that\n",
            "\"the people\" is a term of art...\n",
            "\n",
            "\n",
            "Non-Similar Document Pairs (Sample):\n",
            "Similarity: 0.16\n",
            "Doc 1: \n",
            "\n",
            "I am sure some bashers of Pens fans are pretty confused about the lack\n",
            "of any kind of posts about ...\n",
            "Doc 2: My brother is in the market for a high-performance video card that supports\n",
            "VESA local bus with 1-2M...\n",
            "\n",
            "Similarity: 0.41\n",
            "Doc 1: \n",
            "\n",
            "I am sure some bashers of Pens fans are pretty confused about the lack\n",
            "of any kind of posts about ...\n",
            "Doc 2: \n",
            "\n",
            "\n",
            "\n",
            "\tFinally you said what you dream about. Mediterranean???? That was new....\n",
            "\tThe area will be \"gr...\n",
            "\n",
            "Similarity: 0.38\n",
            "Doc 1: \n",
            "\n",
            "I am sure some bashers of Pens fans are pretty confused about the lack\n",
            "of any kind of posts about ...\n",
            "Doc 2: \n",
            "Think!\n",
            "\n",
            "It's the SCSI card doing the DMA transfers NOT the disks...\n",
            "\n",
            "The SCSI card can do DMA trans...\n",
            "\n"
          ]
        }
      ]
    },
    {
      "cell_type": "code",
      "source": [
        "# Accuracy values provided\n",
        "log_reg_accuracy = 52  # Logistic Regression accuracy\n",
        "admm_accuracy = 75     # ADMM accuracy\n",
        "\n",
        "# Plot comparison\n",
        "methods = ['Logistic Regression', 'ADMM']\n",
        "accuracies = [log_reg_accuracy, admm_accuracy]\n",
        "\n",
        "plt.bar(methods, accuracies, color=['blue', 'green'])\n",
        "plt.ylabel('Accuracy (%)')\n",
        "plt.title('Accuracy Comparison: Logistic Regression vs. ADMM')\n",
        "plt.ylim(0, 100)  # Ensuring the y-axis goes from 0 to 100\n",
        "plt.show()"
      ],
      "metadata": {
        "id": "04ZsAY4x5Vmw",
        "colab": {
          "base_uri": "https://localhost:8080/",
          "height": 452
        },
        "outputId": "20fd2b9a-4ed9-43c0-fe97-69fce083957f"
      },
      "execution_count": 18,
      "outputs": [
        {
          "output_type": "display_data",
          "data": {
            "text/plain": [
              "<Figure size 640x480 with 1 Axes>"
            ],
            "image/png": "[encoded data removed]"
          },
          "metadata": {}
        }
      ]
    }
  ]
}